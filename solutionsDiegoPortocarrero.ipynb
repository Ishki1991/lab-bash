#!/usr/bin/env python
# coding: utf-8

# ### EJERCICIOS

# #### Imprime en consola Hello World.

# echo "Hello World"

# #### Crea un directorio nuevo llamado new_dir.

# mkdir new_dir

# #### Elimina ese directorio.

# rm -r new_dir

# #### Imprime en consola Hello World.

# echo "Hello World"

# #### Crea un directorio nuevo llamado new_dir.

# mkdir new_dir

# #### Elimina ese directorio.

# rm -r new_dir

# 
# #### Copia el archivo sed.txt dentro de la carpeta lorem a la carpeta lorem-copy.
# 

# mkdir lorem_copy
# cp sed.txt ../lorem-copy

# #### Copia los otros dos archivos de la carpeta lorem a la carpeta lorem-copy en una sola línea mediante ;.

# -

# #### Muestra el contenido del archivo sed.txt dentro de la carpeta lorem.

# cat sed.txt

# #### Muestra el contenido de los archivos at.txt y lorem.txt dentro de la carpeta lorem.

# cat  at.txt , lorem.txt 

# #### Visualiza las primeras 3 líneas del archivo sed.txt dentro de la carpeta lorem-copy

# head -n 3 sed.txt

# #### Visualiza las ultimas 3 líneas del archivo sed.txt dentro de la carpeta lorem-copy

# tail -n 3 sed.txt

# #### Añade Homo homini lupus. al final de archivo sed.txt dentro de la carpeta lorem-copy.

# echo Homo homini lupus. >> sed.txt 

# #### Visualiza las últimas 3 líneas del archivo sed.txt dentro de la carpeta lorem-copy. Deberías ver ahora Homo homini lupus

# tail -n 3 sed.txt

# #### Sustituye todas las apariciones de et por ET del archivo at.txt dentro de la carpeta lorem-copy. Deberás usar sed.

# -

# #### Encuentra al usuario activo en el sistema.

# whoami

# #### Encuentra dónde estás en tu sistema de ficheros.

# pwd

# #### Lista los archivos que terminan por .txt en la carpeta lorem.

# -

# #### Cuenta el número de líneas que tiene el archivo sed.txt dentro de la carpeta lorem.

# wc sed.txt

# #### Cuenta el número de archivos que empiezan por lorem que están en este directorio y en directorios internos.

# -

# #### Encuentra todas las apariciones de et en at.txt dentro de la carpeta lorem.

# -

# #### Cuenta el número de apariciones del string et en at.txt dentro de la carpeta lorem.

# 

# #### Cuenta el número de apariciones del string et en todos los archivos del directorio lorem-copy.

# 

# ### BONUS

# 

# #### Almacena en una variable name tu nombre.

# 

# #### Imprime esa variable.

# 

# #### Crea un directorio nuevo que se llame como el contenido de la variable name.

# 

# #### Elimina ese directorio.

# 

# #### Por cada archivo dentro de la carpeta lorem imprime el número de carácteres que tienen sus nombres. Intenta primero mostrar los archivos mediante un bucle for:
# 
# - Imprime los ficheros
# - Imprime las longitudes de los nombres de los ficheros
# - Imprime outputs con la siguiente estructura: lorem has 5 characters lenght

# 

# #### Muestra los procesos de forma jerárquica que se están ejecutando en tu ordenador:
# 
# - Usando el comando top o htop
# - Usando el comando ps con argumentos

# 

# #### Muestra información sobre tu procesador por pantalla

# 

# #### Crea 3 alias y haz que estén disponibles cada vez que inicias sesión

# 

# #### Comprime las carpetas lorem y lorem-copy en un archivo llamado lorem-compressed.tar.gz

# 

# #### Descomprime el archivo lorem-compressed.tar.gz en la carpeta lorem-uncompressed

# 

# #### Descomprime el archivo lorem-compressed.tar.gz en la carpeta lorem-uncompressed

# 
